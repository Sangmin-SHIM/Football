{
 "cells": [
  {
   "cell_type": "code",
   "execution_count": 13,
   "id": "e02ebe06",
   "metadata": {},
   "outputs": [],
   "source": [
    "LEAGUES = [\n",
    "        {\"premier_league\" : \n",
    "                         {\"name\" : \"Premier-League\", \"code\" : 9}\n",
    "        },\n",
    "        {\"ligue_1\" : \n",
    "                         {\"name\" : \"Ligue-1\", \"code\" : 13}\n",
    "        },\n",
    "        {\"bundes_liga\" : \n",
    "                         {\"name\" : \"Bundesliga\", \"code\" : 20}        \n",
    "        },\n",
    "        {\"serie_a\" :\n",
    "                         {\"name\" : \"Serie-A\", \"code\" : 11}        \n",
    "        },\n",
    "        {\"la_liga\" :\n",
    "                         {\"name\" : \"La-Liga\", \"code\" : 12}        \n",
    "        }\n",
    "        ]"
   ]
  },
  {
   "cell_type": "code",
   "execution_count": 71,
   "id": "a5099f2a",
   "metadata": {},
   "outputs": [
    {
     "name": "stdout",
     "output_type": "stream",
     "text": [
      "Requirement already satisfied: nbconvert[webpdf] in c:\\users\\ssm47\\anaconda3\\lib\\site-packages (6.1.0)Note: you may need to restart the kernel to use updated packages.\n",
      "Requirement already satisfied: pandocfilters>=1.4.1 in c:\\users\\ssm47\\anaconda3\\lib\\site-packages (from nbconvert[webpdf]) (1.4.3)\n",
      "Requirement already satisfied: nbclient<0.6.0,>=0.5.0 in c:\\users\\ssm47\\anaconda3\\lib\\site-packages (from nbconvert[webpdf]) (0.5.3)\n",
      "Requirement already satisfied: defusedxml in c:\\users\\ssm47\\anaconda3\\lib\\site-packages (from nbconvert[webpdf]) (0.7.1)\n",
      "Requirement already satisfied: jupyter-core in c:\\users\\ssm47\\anaconda3\\lib\\site-packages (from nbconvert[webpdf]) (4.8.1)\n",
      "Requirement already satisfied: pygments>=2.4.1 in c:\\users\\ssm47\\anaconda3\\lib\\site-packages (from nbconvert[webpdf]) (2.10.0)\n",
      "Requirement already satisfied: entrypoints>=0.2.2 in c:\\users\\ssm47\\anaconda3\\lib\\site-packages (from nbconvert[webpdf]) (0.3)\n",
      "Requirement already satisfied: testpath in c:\\users\\ssm47\\anaconda3\\lib\\site-packages (from nbconvert[webpdf]) (0.5.0)\n",
      "Requirement already satisfied: mistune<2,>=0.8.1 in c:\\users\\ssm47\\anaconda3\\lib\\site-packages (from nbconvert[webpdf]) (0.8.4)\n",
      "Requirement already satisfied: jinja2>=2.4 in c:\\users\\ssm47\\anaconda3\\lib\\site-packages (from nbconvert[webpdf]) (2.11.3)\n",
      "Requirement already satisfied: bleach in c:\\users\\ssm47\\anaconda3\\lib\\site-packages (from nbconvert[webpdf]) (4.0.0)\n",
      "Requirement already satisfied: nbformat>=4.4 in c:\\users\\ssm47\\anaconda3\\lib\\site-packages (from nbconvert[webpdf]) (5.1.3)\n",
      "Requirement already satisfied: traitlets>=5.0 in c:\\users\\ssm47\\anaconda3\\lib\\site-packages (from nbconvert[webpdf]) (5.1.0)\n",
      "Requirement already satisfied: jupyterlab-pygments in c:\\users\\ssm47\\anaconda3\\lib\\site-packages (from nbconvert[webpdf]) (0.1.2)\n",
      "Collecting pyppeteer==0.2.2\n",
      "  Downloading pyppeteer-0.2.2-py3-none-any.whl (145 kB)\n",
      "Requirement already satisfied: appdirs<2.0.0,>=1.4.3 in c:\\users\\ssm47\\anaconda3\\lib\\site-packages (from pyppeteer==0.2.2->nbconvert[webpdf]) (1.4.4)\n",
      "Collecting websockets<9.0,>=8.1\n",
      "  Downloading websockets-8.1.tar.gz (58 kB)\n",
      "Requirement already satisfied: urllib3<2.0.0,>=1.25.8 in c:\\users\\ssm47\\anaconda3\\lib\\site-packages (from pyppeteer==0.2.2->nbconvert[webpdf]) (1.26.7)\n",
      "Requirement already satisfied: tqdm<5.0.0,>=4.42.1 in c:\\users\\ssm47\\anaconda3\\lib\\site-packages (from pyppeteer==0.2.2->nbconvert[webpdf]) (4.62.3)\n",
      "Collecting pyee<8.0.0,>=7.0.1\n",
      "  Downloading pyee-7.0.4-py2.py3-none-any.whl (12 kB)\n",
      "Requirement already satisfied: MarkupSafe>=0.23 in c:\\users\\ssm47\\anaconda3\\lib\\site-packages (from jinja2>=2.4->nbconvert[webpdf]) (1.1.1)\n",
      "Requirement already satisfied: async-generator in c:\\users\\ssm47\\anaconda3\\lib\\site-packages (from nbclient<0.6.0,>=0.5.0->nbconvert[webpdf]) (1.10)\n",
      "Requirement already satisfied: jupyter-client>=6.1.5 in c:\\users\\ssm47\\anaconda3\\lib\\site-packages (from nbclient<0.6.0,>=0.5.0->nbconvert[webpdf]) (6.1.12)\n",
      "Requirement already satisfied: nest-asyncio in c:\\users\\ssm47\\anaconda3\\lib\\site-packages (from nbclient<0.6.0,>=0.5.0->nbconvert[webpdf]) (1.5.1)\n",
      "Requirement already satisfied: pyzmq>=13 in c:\\users\\ssm47\\anaconda3\\lib\\site-packages (from jupyter-client>=6.1.5->nbclient<0.6.0,>=0.5.0->nbconvert[webpdf]) (22.2.1)\n",
      "Requirement already satisfied: python-dateutil>=2.1 in c:\\users\\ssm47\\anaconda3\\lib\\site-packages (from jupyter-client>=6.1.5->nbclient<0.6.0,>=0.5.0->nbconvert[webpdf]) (2.8.2)\n",
      "Requirement already satisfied: tornado>=4.1 in c:\\users\\ssm47\\anaconda3\\lib\\site-packages (from jupyter-client>=6.1.5->nbclient<0.6.0,>=0.5.0->nbconvert[webpdf]) (6.1)\n",
      "Requirement already satisfied: pywin32>=1.0 in c:\\users\\ssm47\\anaconda3\\lib\\site-packages (from jupyter-core->nbconvert[webpdf]) (228)\n",
      "Requirement already satisfied: jsonschema!=2.5.0,>=2.4 in c:\\users\\ssm47\\anaconda3\\lib\\site-packages (from nbformat>=4.4->nbconvert[webpdf]) (3.2.0)\n",
      "Requirement already satisfied: ipython-genutils in c:\\users\\ssm47\\anaconda3\\lib\\site-packages (from nbformat>=4.4->nbconvert[webpdf]) (0.2.0)\n",
      "Requirement already satisfied: pyrsistent>=0.14.0 in c:\\users\\ssm47\\anaconda3\\lib\\site-packages (from jsonschema!=2.5.0,>=2.4->nbformat>=4.4->nbconvert[webpdf]) (0.18.0)\n",
      "Requirement already satisfied: attrs>=17.4.0 in c:\\users\\ssm47\\anaconda3\\lib\\site-packages (from jsonschema!=2.5.0,>=2.4->nbformat>=4.4->nbconvert[webpdf]) (21.2.0)\n",
      "Requirement already satisfied: setuptools in c:\\users\\ssm47\\anaconda3\\lib\\site-packages (from jsonschema!=2.5.0,>=2.4->nbformat>=4.4->nbconvert[webpdf]) (58.0.4)\n",
      "Requirement already satisfied: six>=1.11.0 in c:\\users\\ssm47\\anaconda3\\lib\\site-packages (from jsonschema!=2.5.0,>=2.4->nbformat>=4.4->nbconvert[webpdf]) (1.16.0)\n",
      "Requirement already satisfied: colorama in c:\\users\\ssm47\\anaconda3\\lib\\site-packages (from tqdm<5.0.0,>=4.42.1->pyppeteer==0.2.2->nbconvert[webpdf]) (0.4.4)\n",
      "\n",
      "Requirement already satisfied: webencodings in c:\\users\\ssm47\\anaconda3\\lib\\site-packages (from bleach->nbconvert[webpdf]) (0.5.1)\n",
      "Requirement already satisfied: packaging in c:\\users\\ssm47\\anaconda3\\lib\\site-packages (from bleach->nbconvert[webpdf]) (21.0)\n",
      "Requirement already satisfied: pyparsing>=2.0.2 in c:\\users\\ssm47\\anaconda3\\lib\\site-packages (from packaging->bleach->nbconvert[webpdf]) (3.0.4)\n",
      "Building wheels for collected packages: websockets\n",
      "  Building wheel for websockets (setup.py): started\n",
      "  Building wheel for websockets (setup.py): finished with status 'done'\n",
      "  Created wheel for websockets: filename=websockets-8.1-cp39-cp39-win_amd64.whl size=68215 sha256=ea96a0cab461f31c0d37cb2c094e551113846bb031604f61851b5d2ac26974ed\n",
      "  Stored in directory: c:\\users\\ssm47\\appdata\\local\\pip\\cache\\wheels\\d8\\b9\\a0\\b97b211aeda2ebd6ac2e43fc300d308dbf1f9df520ed390cae\n",
      "Successfully built websockets\n",
      "Installing collected packages: websockets, pyee, pyppeteer\n",
      "Successfully installed pyee-7.0.4 pyppeteer-0.2.2 websockets-8.1\n"
     ]
    }
   ],
   "source": []
  },
  {
   "cell_type": "code",
   "execution_count": 46,
   "id": "33a24f6e",
   "metadata": {},
   "outputs": [],
   "source": [
    "import datetime\n",
    "\n",
    "def getSeason(year):\n",
    "    season = f\"{year}-{year+1}\"\n",
    "    return season\n",
    "    \n",
    "today = datetime.datetime.now()\n",
    "\n",
    "# Year : today.year(2022) By Default\n",
    "year = today.year\n",
    "season = getSeason(year)"
   ]
  },
  {
   "cell_type": "code",
   "execution_count": 50,
   "id": "882afb38",
   "metadata": {},
   "outputs": [
    {
     "name": "stdout",
     "output_type": "stream",
     "text": [
      "Premier-League 9\n"
     ]
    }
   ],
   "source": [
    "# premier_league, ligue_1, bundes_liga, serie_a, la_liga\n",
    "enter_league = \"premier_league\"\n",
    "\n",
    "def find_league_name(enter_league):\n",
    "    for league in LEAGUES:\n",
    "        for key in league.keys():\n",
    "            if key == enter_league:\n",
    "                league_name = league[key]['name']\n",
    "                return league_name\n",
    "\n",
    "def find_league_code(enter_league):\n",
    "    for league in LEAGUES:\n",
    "        for key in league.keys():\n",
    "            if key == enter_league:\n",
    "                league_code = league[key]['code']\n",
    "                return league_code\n",
    "            \n",
    "\n",
    "league_name = find_league_name(enter_league)\n",
    "league_code = find_league_code(enter_league)\n",
    "\n",
    "print(league_name, league_code)"
   ]
  },
  {
   "cell_type": "code",
   "execution_count": 51,
   "id": "af4ffecf",
   "metadata": {},
   "outputs": [],
   "source": [
    "import requests\n",
    "from bs4 import BeautifulSoup\n",
    "\n",
    "url = f\"https://fbref.com/en/comps/{league_code}/{season}/{season}-{league_name}-Stats\"\n",
    "res = requests.get(url)\n",
    "res.raise_for_status()\n",
    "\n",
    "soup = BeautifulSoup(res.text, 'lxml')"
   ]
  },
  {
   "cell_type": "code",
   "execution_count": 70,
   "id": "99588f69",
   "metadata": {},
   "outputs": [
    {
     "name": "stdout",
     "output_type": "stream",
     "text": [
      "LEAGUE : Premier-League / SEASON : 2022-2023\n",
      "Stats by Club\n",
      "Rk Squad MP W D L Pts\n",
      "------------------------------------\n",
      "1 Arsenal 10 9 0 1 27\n",
      "2 Manchester City 10 7 2 1 23\n",
      "3 Tottenham 10 7 2 1 23\n",
      "4 Chelsea 9 6 1 2 19\n",
      "5 Manchester Utd 9 5 1 3 16\n",
      "6 Newcastle Utd 10 3 6 1 15\n",
      "7 Brighton 9 4 2 3 14\n",
      "8 Liverpool 9 3 4 2 13\n",
      "9 Brentford 10 3 4 3 13\n",
      "10 Bournemouth 10 3 4 3 13\n",
      "11 Fulham 10 3 3 4 12\n",
      "12 West Ham 10 3 2 5 11\n",
      "13 Crystal Palace 9 2 4 3 10\n",
      "14 Everton 10 2 4 4 10\n",
      "15 Leeds United 9 2 3 4 9\n",
      "16 Aston Villa 10 2 3 5 9\n",
      "17 Wolves 10 2 3 5 9\n",
      "18 Southampton 10 2 2 6 8\n",
      "19 Leicester City 10 1 2 7 5\n",
      "20 Nott'ham Forest 10 1 2 7 5\n"
     ]
    }
   ],
   "source": [
    "globals()[f\"{league_name}_{season}\"]=soup.find(attrs={\"id\":f\"results{season}{league_code}1_overall\"})\n",
    "\n",
    "this_season=globals()[f\"{league_name}_{season}\"]\n",
    "\n",
    "clubs = this_season.find_all(\"td\", attrs={\"data-stat\" : \"team\"})\n",
    "mps = this_season.find_all(\"td\", attrs={\"data-stat\" : \"games\"})\n",
    "ws = this_season.find_all(\"td\", attrs={\"data-stat\" : \"wins\"})\n",
    "ds = this_season.find_all(\"td\", attrs={\"data-stat\" : \"ties\"})\n",
    "ls = this_season.find_all(\"td\", attrs={\"data-stat\" : \"losses\"})\n",
    "pts = this_season.find_all(\"td\", attrs={\"data-stat\" : \"points\"})\n",
    "\n",
    "print(f\"LEAGUE : {league_name} / SEASON : {season}\")\n",
    "print(\"Stats by Club\")\n",
    "print(\"Rk\", \"Squad\", \"MP\", \"W\", \"D\", \"L\", \"Pts\")\n",
    "print(\"------------------------------------\")\n",
    "for num in range(0, len(clubs)):\n",
    "    print(num+1,clubs[num].a.get_text(), mps[num].get_text(), ws[num].get_text(), ds[num].get_text(), ls[num].get_text(), pts[num].get_text())\n"
   ]
  }
 ],
 "metadata": {
  "kernelspec": {
   "display_name": "Python 3 (ipykernel)",
   "language": "python",
   "name": "python3"
  },
  "language_info": {
   "codemirror_mode": {
    "name": "ipython",
    "version": 3
   },
   "file_extension": ".py",
   "mimetype": "text/x-python",
   "name": "python",
   "nbconvert_exporter": "python",
   "pygments_lexer": "ipython3",
   "version": "3.9.7"
  }
 },
 "nbformat": 4,
 "nbformat_minor": 5
}
