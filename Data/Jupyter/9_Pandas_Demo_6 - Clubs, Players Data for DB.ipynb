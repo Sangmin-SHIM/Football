{
 "cells": [
  {
   "cell_type": "code",
   "execution_count": 41,
   "id": "6161e3e2",
   "metadata": {},
   "outputs": [],
   "source": [
    "import pandas as pd\n",
    "import re\n",
    "\n",
    "# All Players\n",
    "FILE_BASE_PATH=f\"C:/Users/ssm47/Desktop/Git (Projets Perso)/Football/Data/Csv/Bs4_results/Players/All-Players\"\n",
    "df_nationality=pd.read_csv(f'{FILE_BASE_PATH}/Nationality.csv')\n",
    "df_all=pd.read_csv(f'{FILE_BASE_PATH}/All_Players_for_DB.csv')"
   ]
  },
  {
   "cell_type": "code",
   "execution_count": 68,
   "id": "57b567bc",
   "metadata": {},
   "outputs": [],
   "source": [
    "for i in range(0,len(df_all)):\n",
    "    for j in range(0,len(df_nationality)):\n",
    "        if df_all.iloc[i][4] == df_nationality.iloc[j][1]:\n",
    "            df_all.loc[i, 'Nationality_id'] =  df_nationality.iloc[j][0]"
   ]
  },
  {
   "cell_type": "code",
   "execution_count": 70,
   "id": "588b3f76",
   "metadata": {},
   "outputs": [],
   "source": [
    "df_all.to_csv(f'{FILE_BASE_PATH}/All_Players_for_DB.csv', encoding='utf-8-sig')"
   ]
  },
  {
   "cell_type": "code",
   "execution_count": 83,
   "id": "e377feea",
   "metadata": {},
   "outputs": [],
   "source": [
    "LEAGUES = [\n",
    "        {\"premier_league\" : \n",
    "                         {\"name\" : \"Premier-League\", \"id\" : 1}\n",
    "        },\n",
    "        {\"ligue_1\" : \n",
    "                         {\"name\" : \"Ligue-1\", \"id\" : 2}\n",
    "        },\n",
    "        {\"bundes_liga\" : \n",
    "                         {\"name\" : \"Bundesliga\", \"id\" : 3}        \n",
    "        },\n",
    "        {\"serie_a\" :\n",
    "                         {\"name\" : \"Serie-A\", \"id\" : 5}        \n",
    "        },\n",
    "        {\"la_liga\" :\n",
    "                         {\"name\" : \"La-Liga\", \"id\" : 4}        \n",
    "        }\n",
    "]\n",
    "\n",
    "\n",
    "def getSeason(enter):\n",
    "    return str(f'{enter}-{enter+1}')\n",
    "\n",
    "def all_leagues_list():\n",
    "    ligues=[]\n",
    "    for league in LEAGUES:\n",
    "        for key in league.keys():\n",
    "                ligues.append(key)\n",
    "    return ligues\n",
    "\n",
    "def find_league_name(enter_league):\n",
    "    for league in LEAGUES:\n",
    "        for key in league.keys():\n",
    "            if key == enter_league:\n",
    "                league_name = league[key]['name']\n",
    "                return league_name\n",
    "\n",
    "def find_league_id(enter_league):\n",
    "    for league in LEAGUES:\n",
    "        for key in league.keys():\n",
    "            if key == enter_league:\n",
    "                league_id = league[key]['id']\n",
    "                return league_id"
   ]
  },
  {
   "cell_type": "code",
   "execution_count": 189,
   "id": "681e31ff",
   "metadata": {},
   "outputs": [],
   "source": [
    "import pandas as pd\n",
    "import re\n",
    "\n",
    "# REAL DATA : Clubs for DB\n",
    "df_all_clubs=pd.read_excel(\"C:/Users/ssm47/Desktop/Git (Projets Perso)/Football/Data/Csv/Bs4_results/Clubs/All-Clubs/All-Clubs.xlsx\")\n",
    "\n",
    "for enter_league in leagues:\n",
    "    league_name=find_league_name(enter_league)\n",
    "    league_id =find_league_id(enter_league)\n",
    "    \n",
    "    FILE_BASE_PATH=f\"C:/Users/ssm47/Desktop/Git (Projets Perso)/Football/Data/Csv/Bs4_results/Clubs/{league_name}\"    \n",
    "    df_all=pd.DataFrame()\n",
    "\n",
    "    for num in range(0,20):\n",
    "        season = getSeason(2002+num)\n",
    "        df_this_league=pd.read_csv(f'{FILE_BASE_PATH}/{season}.csv',skiprows=1)\n",
    "        df_this_league['League_id'] = league_id\n",
    "        df_this_league['season'] = season\n",
    "        df_this_league['Id']=\"\"\n",
    "\n",
    "        df_all = df_all.append(df_this_league)\n",
    "        \n",
    "        df_all=df_all[['Id','Rk','Club','Mp','W','D','L','Pts','season','Club_id','League_id']]\n",
    "    \n",
    "    df_all.to_csv(f\"C:/Users/ssm47/Desktop/Git (Projets Perso)/Football/Data/Csv/Bs4_results/Clubs/{league_name}/{league_name}_for_DB.csv\",encoding='utf-8-sig',index=False)"
   ]
  },
  {
   "cell_type": "code",
   "execution_count": 197,
   "id": "a8d414d9",
   "metadata": {},
   "outputs": [],
   "source": [
    "for enter_league in leagues:\n",
    "    league_name=find_league_name(enter_league)\n",
    "    league_id =find_league_id(enter_league)\n",
    "    \n",
    "    df_all=pd.read_csv(f\"C:/Users/ssm47/Desktop/Git (Projets Perso)/Football/Data/Csv/Bs4_results/Clubs/{league_name}/{league_name}_for_DB.csv\",encoding='utf-8-sig')\n",
    "    \n",
    "    for i in range(0,len(df_all)):\n",
    "        for j in range(0,len(df_all_clubs)):\n",
    "            if df_all.iloc[i][2] == df_all_clubs.iloc[j][1]:\n",
    "                df_all.loc[i, 'Club_id'] =  df_all_clubs.iloc[j][0]\n",
    "                \n",
    "    df_all.to_csv(f\"C:/Users/ssm47/Desktop/Git (Projets Perso)/Football/Data/Csv/Bs4_results/Clubs/{league_name}/{league_name}_for_DB.csv\",encoding='utf-8-sig',index=False)                "
   ]
  },
  {
   "cell_type": "code",
   "execution_count": null,
   "id": "04a78e26",
   "metadata": {},
   "outputs": [],
   "source": []
  }
 ],
 "metadata": {
  "kernelspec": {
   "display_name": "Python 3 (ipykernel)",
   "language": "python",
   "name": "python3"
  },
  "language_info": {
   "codemirror_mode": {
    "name": "ipython",
    "version": 3
   },
   "file_extension": ".py",
   "mimetype": "text/x-python",
   "name": "python",
   "nbconvert_exporter": "python",
   "pygments_lexer": "ipython3",
   "version": "3.9.7"
  }
 },
 "nbformat": 4,
 "nbformat_minor": 5
}
