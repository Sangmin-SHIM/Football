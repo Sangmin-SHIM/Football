{
 "cells": [
  {
   "cell_type": "code",
   "execution_count": 12,
   "id": "c3616342",
   "metadata": {},
   "outputs": [],
   "source": [
    "LEAGUES = [\n",
    "        {\"premier_league\" : \n",
    "                         {\"name\" : \"Premier-League\", \"code\" : 9}\n",
    "        },\n",
    "        ]"
   ]
  },
  {
   "cell_type": "code",
   "execution_count": 1,
   "id": "97340f70",
   "metadata": {},
   "outputs": [],
   "source": [
    "import datetime\n",
    "\n",
    "def getSeason(year):\n",
    "    season = f\"{year}-{year+1}\"\n",
    "    return season\n",
    "    \n",
    "today = datetime.datetime.now()\n",
    "\n",
    "# Year : today.year(2022) By Default\n",
    "year = 2012\n",
    "season = getSeason(year)"
   ]
  },
  {
   "cell_type": "code",
   "execution_count": 4,
   "id": "1dc56e6c",
   "metadata": {},
   "outputs": [
    {
     "name": "stdout",
     "output_type": "stream",
     "text": [
      "Premier-League 9\n"
     ]
    }
   ],
   "source": [
    "# premier_league, ligue_1, bundes_liga, serie_a, la_liga\n",
    "enter_league = \"premier_league\"\n",
    "\n",
    "def find_league_name(enter_league):\n",
    "    for league in LEAGUES:\n",
    "        for key in league.keys():\n",
    "            if key == enter_league:\n",
    "                league_name = league[key]['name']\n",
    "                return league_name\n",
    "\n",
    "def find_league_code(enter_league):\n",
    "    for league in LEAGUES:\n",
    "        for key in league.keys():\n",
    "            if key == enter_league:\n",
    "                league_code = league[key]['code']\n",
    "                return league_code\n",
    "            \n",
    "\n",
    "league_name = find_league_name(enter_league)\n",
    "league_code = find_league_code(enter_league)\n",
    "\n",
    "print(league_name, league_code)"
   ]
  },
  {
   "cell_type": "code",
   "execution_count": 5,
   "id": "dee25f1c",
   "metadata": {},
   "outputs": [],
   "source": [
    "import requests\n",
    "from bs4 import BeautifulSoup\n",
    "\n",
    "url = f\"https://fbref.com/en/comps/{league_code}/{season}/{season}-{league_name}-Stats\"\n",
    "res = requests.get(url)\n",
    "res.raise_for_status()\n",
    "\n",
    "soup = BeautifulSoup(res.text, 'lxml')"
   ]
  },
  {
   "cell_type": "code",
   "execution_count": 6,
   "id": "2edcb942",
   "metadata": {},
   "outputs": [
    {
     "name": "stdout",
     "output_type": "stream",
     "text": [
      "LEAGUE : Premier-League / SEASON : 2012-2013\n",
      "Stats by Club\n",
      "Rk Club MP W D L Pts\n",
      "------------------------------------\n",
      "1 Manchester Utd 38 28 5 5 89\n",
      "2 Manchester City 38 23 9 6 78\n",
      "3 Chelsea 38 22 9 7 75\n",
      "4 Arsenal 38 21 10 7 73\n",
      "5 Tottenham 38 21 9 8 72\n",
      "6 Everton 38 16 15 7 63\n",
      "7 Liverpool 38 16 13 9 61\n",
      "8 West Brom 38 14 7 17 49\n",
      "9 Swansea City 38 11 13 14 46\n",
      "10 West Ham 38 12 10 16 46\n",
      "11 Norwich City 38 10 14 14 44\n",
      "12 Fulham 38 11 10 17 43\n",
      "13 Stoke City 38 9 15 14 42\n",
      "14 Southampton 38 9 14 15 41\n",
      "15 Aston Villa 38 10 11 17 41\n",
      "16 Newcastle Utd 38 11 8 19 41\n",
      "17 Sunderland 38 9 12 17 39\n",
      "18 Wigan Athletic 38 9 9 20 36\n",
      "19 Reading 38 6 10 22 28\n",
      "20 QPR 38 4 13 21 25\n"
     ]
    }
   ],
   "source": [
    "globals()[f\"{league_name}_{season}\"]=soup.find(attrs={\"id\":f\"results{season}{league_code}1_overall\"})\n",
    "\n",
    "this_season=globals()[f\"{league_name}_{season}\"]\n",
    "\n",
    "clubs = this_season.find_all(\"td\", attrs={\"data-stat\" : \"team\"})\n",
    "mps = this_season.find_all(\"td\", attrs={\"data-stat\" : \"games\"})\n",
    "ws = this_season.find_all(\"td\", attrs={\"data-stat\" : \"wins\"})\n",
    "ds = this_season.find_all(\"td\", attrs={\"data-stat\" : \"ties\"})\n",
    "ls = this_season.find_all(\"td\", attrs={\"data-stat\" : \"losses\"})\n",
    "pts = this_season.find_all(\"td\", attrs={\"data-stat\" : \"points\"})\n",
    "\n",
    "print(f\"LEAGUE : {league_name} / SEASON : {season}\")\n",
    "print(\"Stats by Club\")\n",
    "print(\"Rk\", \"Club\", \"MP\", \"W\", \"D\", \"L\", \"Pts\")\n",
    "print(\"------------------------------------\")\n",
    "for num in range(0, len(clubs)):\n",
    "    print(num+1,clubs[num].a.get_text(), mps[num].get_text(), ws[num].get_text(), ds[num].get_text(), ls[num].get_text(), pts[num].get_text())\n"
   ]
  },
  {
   "cell_type": "code",
   "execution_count": 17,
   "id": "eb5bec6c",
   "metadata": {},
   "outputs": [
    {
     "name": "stdout",
     "output_type": "stream",
     "text": [
      "1 Manchester Utd\n"
     ]
    },
    {
     "ename": "UnsupportedOperation",
     "evalue": "not writable",
     "output_type": "error",
     "traceback": [
      "\u001b[1;31m---------------------------------------------------------------------------\u001b[0m",
      "\u001b[1;31mUnsupportedOperation\u001b[0m                      Traceback (most recent call last)",
      "\u001b[1;32m~\\AppData\\Local\\Temp/ipykernel_18076/2175280680.py\u001b[0m in \u001b[0;36m<module>\u001b[1;34m\u001b[0m\n\u001b[0;32m     25\u001b[0m     \u001b[0mwriter\u001b[0m \u001b[1;33m=\u001b[0m \u001b[0mcsv\u001b[0m\u001b[1;33m.\u001b[0m\u001b[0mwriter\u001b[0m\u001b[1;33m(\u001b[0m\u001b[0mfile\u001b[0m\u001b[1;33m)\u001b[0m\u001b[1;33m\u001b[0m\u001b[1;33m\u001b[0m\u001b[0m\n\u001b[0;32m     26\u001b[0m     \u001b[0mcontents\u001b[0m \u001b[1;33m=\u001b[0m \u001b[1;33m(\u001b[0m\u001b[1;33m[\u001b[0m\u001b[0mRk\u001b[0m\u001b[1;33m,\u001b[0m \u001b[0mClub\u001b[0m\u001b[1;33m,\u001b[0m \u001b[0mMp\u001b[0m\u001b[1;33m,\u001b[0m \u001b[0mW\u001b[0m\u001b[1;33m,\u001b[0m \u001b[0mD\u001b[0m\u001b[1;33m,\u001b[0m \u001b[0mL\u001b[0m\u001b[1;33m,\u001b[0m \u001b[0mPts\u001b[0m\u001b[1;33m]\u001b[0m\u001b[1;33m)\u001b[0m\u001b[1;33m\u001b[0m\u001b[1;33m\u001b[0m\u001b[0m\n\u001b[1;32m---> 27\u001b[1;33m     \u001b[0mwriter\u001b[0m\u001b[1;33m.\u001b[0m\u001b[0mwriterow\u001b[0m\u001b[1;33m(\u001b[0m\u001b[0mcontents\u001b[0m\u001b[1;33m)\u001b[0m\u001b[1;33m\u001b[0m\u001b[1;33m\u001b[0m\u001b[0m\n\u001b[0m\u001b[0;32m     28\u001b[0m     \u001b[0mfile\u001b[0m\u001b[1;33m.\u001b[0m\u001b[0mclose\u001b[0m\u001b[1;33m(\u001b[0m\u001b[1;33m)\u001b[0m\u001b[1;33m\u001b[0m\u001b[1;33m\u001b[0m\u001b[0m\n",
      "\u001b[1;31mUnsupportedOperation\u001b[0m: not writable"
     ]
    }
   ],
   "source": [
    "# CSV\n",
    "import csv\n",
    "\n",
    "file_club_path = '../Csv/Bs4_results/Clubs'\n",
    "\n",
    "file = open(f'{file_club_path}/{league_name}/{season}.csv', 'w', newline='')\n",
    "writer = csv.writer(file)\n",
    "\n",
    "season_league = [season, league_name]\n",
    "writer.writerow(season_league)\n",
    "# -------------------------------------------------\n",
    "headers = [\"Rk\", \"Club\", \"Mp\", \"W\", \"D\", \"L\", \"Pts\"]\n",
    "writer.writerow(headers)\n",
    "for num in range(0, len(clubs)): \n",
    "    Rk = num+1\n",
    "    Club = clubs[num].a.get_text() \n",
    "    Mp = mps[num].get_text()\n",
    "    W = ws[num].get_text()\n",
    "    D = ds[num].get_text()\n",
    "    L = ls[num].get_text()\n",
    "    Pts = pts[num].get_text()\n",
    "\n",
    "    file = open(f'{file_club_path}/{league_name}/{season}.csv', 'a', newline='', encoding='utf-8')\n",
    "    writer = csv.writer(file)\n",
    "    contents = ([Rk, Club, Mp, W, D, L, Pts])\n",
    "    writer.writerow(contents)\n",
    "    file.close()"
   ]
  }
 ],
 "metadata": {
  "kernelspec": {
   "display_name": "Python 3 (ipykernel)",
   "language": "python",
   "name": "python3"
  },
  "language_info": {
   "codemirror_mode": {
    "name": "ipython",
    "version": 3
   },
   "file_extension": ".py",
   "mimetype": "text/x-python",
   "name": "python",
   "nbconvert_exporter": "python",
   "pygments_lexer": "ipython3",
   "version": "3.9.7"
  }
 },
 "nbformat": 4,
 "nbformat_minor": 5
}
