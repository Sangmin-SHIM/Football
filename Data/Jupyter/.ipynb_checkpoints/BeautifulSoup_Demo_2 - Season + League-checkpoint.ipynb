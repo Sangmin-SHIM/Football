{
 "cells": [
  {
   "cell_type": "code",
   "execution_count": 1,
   "id": "e02ebe06",
   "metadata": {},
   "outputs": [],
   "source": [
    "LEAGUES = [\n",
    "        {\"premier_league\" : \n",
    "                         {\"name\" : \"Premier-League\", \"code\" : 9}\n",
    "        },\n",
    "        {\"ligue_1\" : \n",
    "                         {\"name\" : \"Ligue-1\", \"code\" : 13}\n",
    "        },\n",
    "        {\"bundes_liga\" : \n",
    "                         {\"name\" : \"Bundesliga\", \"code\" : 20}        \n",
    "        },\n",
    "        {\"serie_a\" :\n",
    "                         {\"name\" : \"Serie-A\", \"code\" : 11}        \n",
    "        },\n",
    "        {\"la_liga\" :\n",
    "                         {\"name\" : \"La-Liga\", \"code\" : 12}        \n",
    "        }\n",
    "        ]"
   ]
  },
  {
   "cell_type": "code",
   "execution_count": 2,
   "id": "120737a0",
   "metadata": {},
   "outputs": [
    {
     "data": {
      "text/plain": [
       "['premier_league', 'ligue_1', 'bundes_liga', 'serie_a', 'la_liga']"
      ]
     },
     "execution_count": 2,
     "metadata": {},
     "output_type": "execute_result"
    }
   ],
   "source": [
    "# for league in LEAGUES:\n",
    "#     for key in league.keys():\n",
    "#         print(key)\n",
    "\n",
    "h=[key for league in LEAGUES for key in league.keys()]\n",
    "h"
   ]
  },
  {
   "cell_type": "code",
   "execution_count": 3,
   "id": "33a24f6e",
   "metadata": {},
   "outputs": [],
   "source": [
    "import datetime\n",
    "\n",
    "def getSeason(year):\n",
    "    season = f\"{year}-{year+1}\"\n",
    "    return season\n",
    "    \n",
    "today = datetime.datetime.now()\n",
    "\n",
    "# Year : today.year(2022) By Default\n",
    "year = 2021\n",
    "season = getSeason(year)"
   ]
  },
  {
   "cell_type": "code",
   "execution_count": 5,
   "id": "882afb38",
   "metadata": {},
   "outputs": [
    {
     "name": "stdout",
     "output_type": "stream",
     "text": [
      "Premier-League 9\n"
     ]
    }
   ],
   "source": [
    "# premier_league, ligue_1, bundes_liga, serie_a, la_liga\n",
    "enter_league = \"premier_league\"\n",
    "\n",
    "def find_league_name(enter_league):\n",
    "    for league in LEAGUES:\n",
    "        for key in league.keys():\n",
    "            if key == enter_league:\n",
    "                league_name = league[key]['name']\n",
    "                return league_name\n",
    "\n",
    "def find_league_code(enter_league):\n",
    "    for league in LEAGUES:\n",
    "        for key in league.keys():\n",
    "            if key == enter_league:\n",
    "                league_code = league[key]['code']\n",
    "                return league_code\n",
    "            \n",
    "\n",
    "league_name = find_league_name(enter_league)\n",
    "league_code = find_league_code(enter_league)\n",
    "\n",
    "print(league_name, league_code)"
   ]
  },
  {
   "cell_type": "code",
   "execution_count": 6,
   "id": "af4ffecf",
   "metadata": {},
   "outputs": [],
   "source": [
    "import requests\n",
    "from bs4 import BeautifulSoup\n",
    "\n",
    "url = f\"https://fbref.com/en/comps/{league_code}/{season}/{season}-{league_name}-Stats\"\n",
    "res = requests.get(url)\n",
    "res.raise_for_status()\n",
    "\n",
    "soup = BeautifulSoup(res.text, 'lxml')"
   ]
  },
  {
   "cell_type": "code",
   "execution_count": 37,
   "id": "99588f69",
   "metadata": {},
   "outputs": [
    {
     "name": "stdout",
     "output_type": "stream",
     "text": [
      "/en/squads/b8fd03ef/2021-2022/Manchester-City-Stats\n",
      "LEAGUE : Premier-League / SEASON : 2021-2022\n",
      "Stats by Club\n",
      "Rk Club MP W D L Pts link\n",
      "------------------------------------\n",
      "1 Manchester City 38 29 6 3 93 /en/squads/b8fd03ef/2021-2022/Manchester-City-Stats\n",
      "2 Liverpool 38 28 8 2 92 /en/squads/822bd0ba/2021-2022/Liverpool-Stats\n",
      "3 Chelsea 38 21 11 6 74 /en/squads/cff3d9bb/2021-2022/Chelsea-Stats\n",
      "4 Tottenham 38 22 5 11 71 /en/squads/361ca564/2021-2022/Tottenham-Hotspur-Stats\n",
      "5 Arsenal 38 22 3 13 69 /en/squads/18bb7c10/2021-2022/Arsenal-Stats\n",
      "6 Manchester Utd 38 16 10 12 58 /en/squads/19538871/2021-2022/Manchester-United-Stats\n",
      "7 West Ham 38 16 8 14 56 /en/squads/7c21e445/2021-2022/West-Ham-United-Stats\n",
      "8 Leicester City 38 14 10 14 52 /en/squads/a2d435b3/2021-2022/Leicester-City-Stats\n",
      "9 Brighton 38 12 15 11 51 /en/squads/d07537b9/2021-2022/Brighton-and-Hove-Albion-Stats\n",
      "10 Wolves 38 15 6 17 51 /en/squads/8cec06e1/2021-2022/Wolverhampton-Wanderers-Stats\n",
      "11 Newcastle Utd 38 13 10 15 49 /en/squads/b2b47a98/2021-2022/Newcastle-United-Stats\n",
      "12 Crystal Palace 38 11 15 12 48 /en/squads/47c64c55/2021-2022/Crystal-Palace-Stats\n",
      "13 Brentford 38 13 7 18 46 /en/squads/cd051869/2021-2022/Brentford-Stats\n",
      "14 Aston Villa 38 13 6 19 45 /en/squads/8602292d/2021-2022/Aston-Villa-Stats\n",
      "15 Southampton 38 9 13 16 40 /en/squads/33c895d4/2021-2022/Southampton-Stats\n",
      "16 Everton 38 11 6 21 39 /en/squads/d3fd31cc/2021-2022/Everton-Stats\n",
      "17 Leeds United 38 9 11 18 38 /en/squads/5bfb9659/2021-2022/Leeds-United-Stats\n",
      "18 Burnley 38 7 14 17 35 /en/squads/943e8050/2021-2022/Burnley-Stats\n",
      "19 Watford 38 6 5 27 23 /en/squads/2abfe087/2021-2022/Watford-Stats\n",
      "20 Norwich City 38 5 7 26 22 /en/squads/1c781004/2021-2022/Norwich-City-Stats\n"
     ]
    }
   ],
   "source": [
    "import re\n",
    "\n",
    "globals()[f\"{league_name}_{season}\"]=soup.find(attrs={\"id\":f\"results{season}{league_code}1_overall\"})\n",
    "\n",
    "this_season=globals()[f\"{league_name}_{season}\"]\n",
    "\n",
    "clubs = this_season.find_all(\"td\", attrs={\"data-stat\" : \"team\"})\n",
    "mps = this_season.find_all(\"td\", attrs={\"data-stat\" : \"games\"})\n",
    "ws = this_season.find_all(\"td\", attrs={\"data-stat\" : \"wins\"})\n",
    "ds = this_season.find_all(\"td\", attrs={\"data-stat\" : \"ties\"})\n",
    "ls = this_season.find_all(\"td\", attrs={\"data-stat\" : \"losses\"})\n",
    "pts = this_season.find_all(\"td\", attrs={\"data-stat\" : \"points\"})\n",
    "link = clubs\n",
    "\n",
    "print(this_season.find(\"td\", attrs={\"data-stat\" : \"team\"}).a['href'])\n",
    "\n",
    "print(f\"LEAGUE : {league_name} / SEASON : {season}\")\n",
    "print(\"Stats by Club\")\n",
    "print(\"Rk\", \"Club\", \"MP\", \"W\", \"D\", \"L\", \"Pts\", \"link\")\n",
    "print(\"------------------------------------\")\n",
    "for num in range(0, len(clubs)):\n",
    "    print(num+1,clubs[num].a.get_text(), mps[num].get_text(), ws[num].get_text(), ds[num].get_text(), ls[num].get_text(), pts[num].get_text(), clubs[num].a['href'])\n"
   ]
  }
 ],
 "metadata": {
  "kernelspec": {
   "display_name": "Python 3 (ipykernel)",
   "language": "python",
   "name": "python3"
  },
  "language_info": {
   "codemirror_mode": {
    "name": "ipython",
    "version": 3
   },
   "file_extension": ".py",
   "mimetype": "text/x-python",
   "name": "python",
   "nbconvert_exporter": "python",
   "pygments_lexer": "ipython3",
   "version": "3.9.7"
  }
 },
 "nbformat": 4,
 "nbformat_minor": 5
}
