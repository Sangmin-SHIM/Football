{
 "cells": [
  {
   "cell_type": "code",
   "execution_count": 1,
   "id": "e02ebe06",
   "metadata": {},
   "outputs": [],
   "source": [
    "LEAGUES = [\n",
    "        {\"premier_league\" : \n",
    "                         {\"name\" : \"Premier-League\", \"code\" : 9}\n",
    "        },\n",
    "        {\"ligue_1\" : \n",
    "                         {\"name\" : \"Ligue-1\", \"code\" : 13}\n",
    "        },\n",
    "        {\"bundes_liga\" : \n",
    "                         {\"name\" : \"Bundesliga\", \"code\" : 20}        \n",
    "        },\n",
    "        {\"serie_a\" :\n",
    "                         {\"name\" : \"Serie-A\", \"code\" : 11}        \n",
    "        },\n",
    "        {\"la_liga\" :\n",
    "                         {\"name\" : \"La-Liga\", \"code\" : 12}        \n",
    "        }\n",
    "        ]"
   ]
  },
  {
   "cell_type": "code",
   "execution_count": 2,
   "id": "33a24f6e",
   "metadata": {},
   "outputs": [],
   "source": [
    "import datetime\n",
    "\n",
    "def getSeason(year):\n",
    "    season = f\"{year}-{year+1}\"\n",
    "    return season\n",
    "    \n",
    "today = datetime.datetime.now()\n",
    "\n",
    "# Year : today.year(2022) By Default\n",
    "year = today.year\n",
    "season = getSeason(year)"
   ]
  },
  {
   "cell_type": "code",
   "execution_count": 3,
   "id": "882afb38",
   "metadata": {},
   "outputs": [
    {
     "name": "stdout",
     "output_type": "stream",
     "text": [
      "Premier-League 9\n"
     ]
    }
   ],
   "source": [
    "# premier_league, ligue_1, bundes_liga, serie_a, la_liga\n",
    "enter_league = \"premier_league\"\n",
    "\n",
    "def find_league_name(enter_league):\n",
    "    for league in LEAGUES:\n",
    "        for key in league.keys():\n",
    "            if key == enter_league:\n",
    "                league_name = league[key]['name']\n",
    "                return league_name\n",
    "\n",
    "def find_league_code(enter_league):\n",
    "    for league in LEAGUES:\n",
    "        for key in league.keys():\n",
    "            if key == enter_league:\n",
    "                league_code = league[key]['code']\n",
    "                return league_code\n",
    "            \n",
    "\n",
    "league_name = find_league_name(enter_league)\n",
    "league_code = find_league_code(enter_league)\n",
    "\n",
    "print(league_name, league_code)"
   ]
  },
  {
   "cell_type": "code",
   "execution_count": 4,
   "id": "af4ffecf",
   "metadata": {},
   "outputs": [],
   "source": [
    "import requests\n",
    "from bs4 import BeautifulSoup\n",
    "\n",
    "url = f\"https://fbref.com/en/comps/{league_code}/{season}/{season}-{league_name}-Stats\"\n",
    "res = requests.get(url)\n",
    "res.raise_for_status()\n",
    "\n",
    "soup = BeautifulSoup(res.text, 'lxml')"
   ]
  },
  {
   "cell_type": "code",
   "execution_count": 70,
   "id": "99588f69",
   "metadata": {},
   "outputs": [
    {
     "name": "stdout",
     "output_type": "stream",
     "text": [
      "LEAGUE : Premier-League / SEASON : 2022-2023\n",
      "Stats by Club\n",
      "Rk Squad MP W D L Pts\n",
      "------------------------------------\n",
      "1 Arsenal 10 9 0 1 27\n",
      "2 Manchester City 10 7 2 1 23\n",
      "3 Tottenham 10 7 2 1 23\n",
      "4 Chelsea 9 6 1 2 19\n",
      "5 Manchester Utd 9 5 1 3 16\n",
      "6 Newcastle Utd 10 3 6 1 15\n",
      "7 Brighton 9 4 2 3 14\n",
      "8 Liverpool 9 3 4 2 13\n",
      "9 Brentford 10 3 4 3 13\n",
      "10 Bournemouth 10 3 4 3 13\n",
      "11 Fulham 10 3 3 4 12\n",
      "12 West Ham 10 3 2 5 11\n",
      "13 Crystal Palace 9 2 4 3 10\n",
      "14 Everton 10 2 4 4 10\n",
      "15 Leeds United 9 2 3 4 9\n",
      "16 Aston Villa 10 2 3 5 9\n",
      "17 Wolves 10 2 3 5 9\n",
      "18 Southampton 10 2 2 6 8\n",
      "19 Leicester City 10 1 2 7 5\n",
      "20 Nott'ham Forest 10 1 2 7 5\n"
     ]
    }
   ],
   "source": [
    "globals()[f\"{league_name}_{season}\"]=soup.find(attrs={\"id\":f\"results{season}{league_code}1_overall\"})\n",
    "\n",
    "this_season=globals()[f\"{league_name}_{season}\"]\n",
    "\n",
    "clubs = this_season.find_all(\"td\", attrs={\"data-stat\" : \"team\"})\n",
    "mps = this_season.find_all(\"td\", attrs={\"data-stat\" : \"games\"})\n",
    "ws = this_season.find_all(\"td\", attrs={\"data-stat\" : \"wins\"})\n",
    "ds = this_season.find_all(\"td\", attrs={\"data-stat\" : \"ties\"})\n",
    "ls = this_season.find_all(\"td\", attrs={\"data-stat\" : \"losses\"})\n",
    "pts = this_season.find_all(\"td\", attrs={\"data-stat\" : \"points\"})\n",
    "\n",
    "print(f\"LEAGUE : {league_name} / SEASON : {season}\")\n",
    "print(\"Stats by Club\")\n",
    "print(\"Rk\", \"Club\", \"MP\", \"W\", \"D\", \"L\", \"Pts\")\n",
    "print(\"------------------------------------\")\n",
    "for num in range(0, len(clubs)):\n",
    "    print(num+1,clubs[num].a.get_text(), mps[num].get_text(), ws[num].get_text(), ds[num].get_text(), ls[num].get_text(), pts[num].get_text())\n"
   ]
  }
 ],
 "metadata": {
  "kernelspec": {
   "display_name": "Python 3 (ipykernel)",
   "language": "python",
   "name": "python3"
  },
  "language_info": {
   "codemirror_mode": {
    "name": "ipython",
    "version": 3
   },
   "file_extension": ".py",
   "mimetype": "text/x-python",
   "name": "python",
   "nbconvert_exporter": "python",
   "pygments_lexer": "ipython3",
   "version": "3.9.7"
  }
 },
 "nbformat": 4,
 "nbformat_minor": 5
}
