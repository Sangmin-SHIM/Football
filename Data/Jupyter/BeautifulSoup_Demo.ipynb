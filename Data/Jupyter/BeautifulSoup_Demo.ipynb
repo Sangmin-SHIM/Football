{
 "cells": [
  {
   "cell_type": "code",
   "execution_count": 2,
   "id": "a5c1fcd7",
   "metadata": {},
   "outputs": [],
   "source": [
    "import requests\n",
    "from bs4 import BeautifulSoup"
   ]
  },
  {
   "cell_type": "code",
   "execution_count": 3,
   "id": "0c2f7416",
   "metadata": {},
   "outputs": [],
   "source": [
    "url = \"https://fbref.com/en/\"\n",
    "res = requests.get(url)\n",
    "res.raise_for_status()"
   ]
  },
  {
   "cell_type": "code",
   "execution_count": 4,
   "id": "d8fc8644",
   "metadata": {},
   "outputs": [],
   "source": [
    "soup = BeautifulSoup(res.text, 'lxml')"
   ]
  },
  {
   "cell_type": "code",
   "execution_count": 46,
   "id": "9e71e34f",
   "metadata": {},
   "outputs": [],
   "source": [
    "# soup"
   ]
  },
  {
   "cell_type": "code",
   "execution_count": 45,
   "id": "63deb07b",
   "metadata": {},
   "outputs": [
    {
     "name": "stdout",
     "output_type": "stream",
     "text": [
      "Daniel Sturridge\n",
      "Valentina Bergamaschi\n",
      "Sergio Canales\n",
      "Oihan Sancet\n",
      "Jelena Čanković\n",
      "Reiss Nelson\n",
      "Jordyn Huitema\n",
      "Emma Kullberg\n",
      "Joakim Mæhle\n",
      "Clara Matéo\n",
      "Samir Handanović\n",
      "Heather O'Reilly\n",
      "Margaret Purce\n",
      "Arthur Melo\n",
      "Sergiño Dest\n",
      "Rob Holding\n",
      "Lynn Williams\n",
      "Santi Comesaña\n"
     ]
    }
   ],
   "source": [
    "players_div = soup.find(\"div\", attrs={\"id\":\"players\"})\n",
    "images_div=players_div.find(\"div\", attrs={\"class\":\"images\"})\n",
    "player= images_div.find_all(\"img\", attrs={\"class\":\"poptip\"})\n",
    "\n",
    "for num in range(0, len(player)):\n",
    "    print(player[num][\"alt\"])"
   ]
  },
  {
   "cell_type": "code",
   "execution_count": null,
   "id": "f39c49b1",
   "metadata": {},
   "outputs": [],
   "source": []
  }
 ],
 "metadata": {
  "kernelspec": {
   "display_name": "Python 3 (ipykernel)",
   "language": "python",
   "name": "python3"
  },
  "language_info": {
   "codemirror_mode": {
    "name": "ipython",
    "version": 3
   },
   "file_extension": ".py",
   "mimetype": "text/x-python",
   "name": "python",
   "nbconvert_exporter": "python",
   "pygments_lexer": "ipython3",
   "version": "3.9.7"
  }
 },
 "nbformat": 4,
 "nbformat_minor": 5
}
