{
 "cells": [
  {
   "cell_type": "code",
   "execution_count": 1,
   "id": "5d3b4e34",
   "metadata": {},
   "outputs": [
    {
     "name": "stdout",
     "output_type": "stream",
     "text": [
      "\n"
     ]
    },
    {
     "data": {
      "text/html": [
       "<div>\n",
       "<style scoped>\n",
       "    .dataframe tbody tr th:only-of-type {\n",
       "        vertical-align: middle;\n",
       "    }\n",
       "\n",
       "    .dataframe tbody tr th {\n",
       "        vertical-align: top;\n",
       "    }\n",
       "\n",
       "    .dataframe thead th {\n",
       "        text-align: right;\n",
       "    }\n",
       "</style>\n",
       "<table border=\"1\" class=\"dataframe\">\n",
       "  <thead>\n",
       "    <tr style=\"text-align: right;\">\n",
       "      <th></th>\n",
       "      <th>Player</th>\n",
       "      <th>Link</th>\n",
       "    </tr>\n",
       "  </thead>\n",
       "  <tbody>\n",
       "    <tr>\n",
       "      <th>0</th>\n",
       "      <td>﻿Iker Casillas</td>\n",
       "      <td>/en/players/1ddbb0da/Iker-Casillas</td>\n",
       "    </tr>\n",
       "    <tr>\n",
       "      <th>1</th>\n",
       "      <td>Roberto Carlos</td>\n",
       "      <td>/en/players/6a3aaf62/Roberto-Carlos</td>\n",
       "    </tr>\n",
       "    <tr>\n",
       "      <th>2</th>\n",
       "      <td>Míchel Salgado</td>\n",
       "      <td>/en/players/68f36bc6/Michel-Salgado</td>\n",
       "    </tr>\n",
       "    <tr>\n",
       "      <th>3</th>\n",
       "      <td>Iván Helguera</td>\n",
       "      <td>/en/players/44151558/Ivan-Helguera</td>\n",
       "    </tr>\n",
       "    <tr>\n",
       "      <th>4</th>\n",
       "      <td>Luís Figo</td>\n",
       "      <td>/en/players/f20f347f/Luis-Figo</td>\n",
       "    </tr>\n",
       "    <tr>\n",
       "      <th>...</th>\n",
       "      <td>...</td>\n",
       "      <td>...</td>\n",
       "    </tr>\n",
       "    <tr>\n",
       "      <th>24113</th>\n",
       "      <td>Jakob Franz Pálsson</td>\n",
       "      <td>/en/players/ac33eb61/Jakob-Franz-Palsson</td>\n",
       "    </tr>\n",
       "    <tr>\n",
       "      <th>24114</th>\n",
       "      <td>Morré Makadji</td>\n",
       "      <td>/en/players/f52f5334/Morre-Makadji</td>\n",
       "    </tr>\n",
       "    <tr>\n",
       "      <th>24115</th>\n",
       "      <td>Filippo Mozzo</td>\n",
       "      <td>/en/players/28500592/Filippo-Mozzo</td>\n",
       "    </tr>\n",
       "    <tr>\n",
       "      <th>24116</th>\n",
       "      <td>Damiano Pecile</td>\n",
       "      <td>/en/players/c2a2ad20/Damiano-Pecile</td>\n",
       "    </tr>\n",
       "    <tr>\n",
       "      <th>24117</th>\n",
       "      <td>Melvyn Remy</td>\n",
       "      <td>/en/players/06c2ba58/Melvyn-Remy</td>\n",
       "    </tr>\n",
       "  </tbody>\n",
       "</table>\n",
       "<p>24118 rows × 2 columns</p>\n",
       "</div>"
      ],
      "text/plain": [
       "                    Player                                      Link\n",
       "0           ﻿Iker Casillas        /en/players/1ddbb0da/Iker-Casillas\n",
       "1           Roberto Carlos       /en/players/6a3aaf62/Roberto-Carlos\n",
       "2           Míchel Salgado       /en/players/68f36bc6/Michel-Salgado\n",
       "3            Iván Helguera        /en/players/44151558/Ivan-Helguera\n",
       "4                Luís Figo            /en/players/f20f347f/Luis-Figo\n",
       "...                    ...                                       ...\n",
       "24113  Jakob Franz Pálsson  /en/players/ac33eb61/Jakob-Franz-Palsson\n",
       "24114        Morré Makadji        /en/players/f52f5334/Morre-Makadji\n",
       "24115        Filippo Mozzo        /en/players/28500592/Filippo-Mozzo\n",
       "24116       Damiano Pecile       /en/players/c2a2ad20/Damiano-Pecile\n",
       "24117          Melvyn Remy          /en/players/06c2ba58/Melvyn-Remy\n",
       "\n",
       "[24118 rows x 2 columns]"
      ]
     },
     "execution_count": 1,
     "metadata": {},
     "output_type": "execute_result"
    }
   ],
   "source": [
    "import pandas as pd\n",
    "import re\n",
    "import os\n",
    "import csv\n",
    "import random\n",
    "import time\n",
    "from pathlib import Path\n",
    "\n",
    "print()\n",
    "\n",
    "# Original File\n",
    "FILE_BASE_PATH=Path.cwd()\n",
    "players_with_id_file = \"Player_with_fbref_id\"\n",
    "\n",
    "df_player=pd.read_csv(f'{FILE_BASE_PATH}/{players_with_id_file}.csv', sep=\",\")\n",
    "\n",
    "df_player = df_player[['Player', 'Link']]\n",
    "\n",
    "df_player"
   ]
  },
  {
   "cell_type": "code",
   "execution_count": 3,
   "id": "5dcbc913",
   "metadata": {},
   "outputs": [],
   "source": [
    "player_name_list=[df_player.loc[num].to_list()[0] for num in range (0,len(df_player))]\n",
    "player_link_list=[df_player.loc[num].to_list()[1] for num in range (0,len(df_player))]"
   ]
  },
  {
   "cell_type": "code",
   "execution_count": 16,
   "id": "646e1157",
   "metadata": {},
   "outputs": [
    {
     "ename": "HTTPError",
     "evalue": "429 Client Error: Too Many Requests for url: https://fbref.com/en/players/89a1b23c/Jose-Barkero",
     "output_type": "error",
     "traceback": [
      "\u001b[0;31m---------------------------------------------------------------------------\u001b[0m",
      "\u001b[0;31mHTTPError\u001b[0m                                 Traceback (most recent call last)",
      "Cell \u001b[0;32mIn [16], line 13\u001b[0m\n\u001b[1;32m     11\u001b[0m url \u001b[38;5;241m=\u001b[39m \u001b[38;5;124mf\u001b[39m\u001b[38;5;124m\"\u001b[39m\u001b[38;5;132;01m{\u001b[39;00mURL_BASE_PATH\u001b[38;5;132;01m}\u001b[39;00m\u001b[38;5;132;01m{\u001b[39;00mplayer_link_list[num]\u001b[38;5;132;01m}\u001b[39;00m\u001b[38;5;124m\"\u001b[39m\n\u001b[1;32m     12\u001b[0m res \u001b[38;5;241m=\u001b[39m requests\u001b[38;5;241m.\u001b[39mget(url)\n\u001b[0;32m---> 13\u001b[0m res\u001b[38;5;241m.\u001b[39mraise_for_status()\n\u001b[1;32m     14\u001b[0m soup \u001b[38;5;241m=\u001b[39m BeautifulSoup(res\u001b[38;5;241m.\u001b[39mtext, \u001b[38;5;124m'\u001b[39m\u001b[38;5;124mlxml\u001b[39m\u001b[38;5;124m'\u001b[39m)\n\u001b[1;32m     16\u001b[0m \u001b[38;5;28;01mif\u001b[39;00m (soup\u001b[38;5;241m.\u001b[39mfind(attrs\u001b[38;5;241m=\u001b[39m{\u001b[38;5;124m\"\u001b[39m\u001b[38;5;124mclass\u001b[39m\u001b[38;5;124m\"\u001b[39m:\u001b[38;5;124m\"\u001b[39m\u001b[38;5;124mmedia-item\u001b[39m\u001b[38;5;124m\"\u001b[39m})):\n",
      "File \u001b[0;32m~/.local/lib/python3.8/site-packages/requests/models.py:1021\u001b[0m, in \u001b[0;36mResponse.raise_for_status\u001b[0;34m(self)\u001b[0m\n\u001b[1;32m   1016\u001b[0m     http_error_msg \u001b[38;5;241m=\u001b[39m (\n\u001b[1;32m   1017\u001b[0m         \u001b[38;5;124mf\u001b[39m\u001b[38;5;124m\"\u001b[39m\u001b[38;5;132;01m{\u001b[39;00m\u001b[38;5;28mself\u001b[39m\u001b[38;5;241m.\u001b[39mstatus_code\u001b[38;5;132;01m}\u001b[39;00m\u001b[38;5;124m Server Error: \u001b[39m\u001b[38;5;132;01m{\u001b[39;00mreason\u001b[38;5;132;01m}\u001b[39;00m\u001b[38;5;124m for url: \u001b[39m\u001b[38;5;132;01m{\u001b[39;00m\u001b[38;5;28mself\u001b[39m\u001b[38;5;241m.\u001b[39murl\u001b[38;5;132;01m}\u001b[39;00m\u001b[38;5;124m\"\u001b[39m\n\u001b[1;32m   1018\u001b[0m     )\n\u001b[1;32m   1020\u001b[0m \u001b[38;5;28;01mif\u001b[39;00m http_error_msg:\n\u001b[0;32m-> 1021\u001b[0m     \u001b[38;5;28;01mraise\u001b[39;00m HTTPError(http_error_msg, response\u001b[38;5;241m=\u001b[39m\u001b[38;5;28mself\u001b[39m)\n",
      "\u001b[0;31mHTTPError\u001b[0m: 429 Client Error: Too Many Requests for url: https://fbref.com/en/players/89a1b23c/Jose-Barkero"
     ]
    }
   ],
   "source": [
    "import csv\n",
    "import requests\n",
    "from bs4 import BeautifulSoup\n",
    "from PIL import Image\n",
    "\n",
    "URL_BASE_PATH = \"https://fbref.com\"\n",
    "\n",
    "for num in range(205, len(df_player)):\n",
    "\n",
    "    # BeautifulSoup     \n",
    "    url = f\"{URL_BASE_PATH}{player_link_list[num]}\"\n",
    "    res = requests.get(url)\n",
    "    res.raise_for_status()\n",
    "    soup = BeautifulSoup(res.text, 'lxml')\n",
    "\n",
    "    if (soup.find(attrs={\"class\":\"media-item\"})):\n",
    "        div = soup.find(attrs={\"class\":\"media-item\"})\n",
    "        image_src = div.img['src']\n",
    "        image = Image.open(requests.get(image_src, stream = True).raw)\n",
    "        \n",
    "        if image.mode != 'RGB':\n",
    "            image = image.convert('RGB')\n",
    "        image.save(f'{FILE_BASE_PATH}/players/{num+1}{player_name_list[num]}.png')\n",
    "\n",
    "        print(f\"{num+1}{player_name_list[num]} DONE ! --- {num+1} / {len(df_player)} ({num/len(df_player)} %)\")\n",
    "\n",
    "        time.sleep(random.randint(2,8))"
   ]
  }
 ],
 "metadata": {
  "kernelspec": {
   "display_name": "Python 3 (ipykernel)",
   "language": "python",
   "name": "python3"
  },
  "language_info": {
   "codemirror_mode": {
    "name": "ipython",
    "version": 3
   },
   "file_extension": ".py",
   "mimetype": "text/x-python",
   "name": "python",
   "nbconvert_exporter": "python",
   "pygments_lexer": "ipython3",
   "version": "3.8.10"
  }
 },
 "nbformat": 4,
 "nbformat_minor": 5
}
