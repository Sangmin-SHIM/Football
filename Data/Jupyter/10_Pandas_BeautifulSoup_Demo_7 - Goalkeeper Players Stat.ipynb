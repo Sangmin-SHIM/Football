{
 "cells": [
  {
   "cell_type": "code",
   "execution_count": 1,
   "id": "2b2b9ba7",
   "metadata": {},
   "outputs": [],
   "source": [
    "import pandas as pd\n",
    "import re\n",
    "import os\n",
    "import csv\n",
    "import random\n",
    "import time\n",
    "\n",
    "# Original File\n",
    "FILE_BASE_PATH=\"C:/Users/ssm47/Desktop/Git (Projets Perso)/Football/Data/Csv/Bs4_results/Players/All-Players\"\n",
    "file_name = \"All_GK_Players(with FBREF ID)\"\n",
    "\n",
    "df=pd.read_csv(f'{FILE_BASE_PATH}/{file_name}.csv')"
   ]
  },
  {
   "cell_type": "code",
   "execution_count": 2,
   "id": "a16b9efd",
   "metadata": {},
   "outputs": [
    {
     "data": {
      "text/plain": [
       "87"
      ]
     },
     "execution_count": 2,
     "metadata": {},
     "output_type": "execute_result"
    }
   ],
   "source": [
    "# Generate Csv File\n",
    "new_file = open(f'{FILE_BASE_PATH}/All_GK_Players_Stats_3.csv', 'w', newline='', encoding='utf=8')\n",
    "writer = csv.writer(new_file)\n",
    "headers = [\"Id\", \"Season\", \"Team\", \"Country\", \"LgRank\", \"MP\", \"Starts\", \"90s\", \"GA\", \"GA90\", \"SoTA\", \"Saves\", \"Save%\", \"W\",\"D\",\"L\",\"CS\",\"CS%\",\"Min\"]\n",
    "writer.writerow(headers)"
   ]
  },
  {
   "cell_type": "code",
   "execution_count": 3,
   "id": "aabef242",
   "metadata": {},
   "outputs": [],
   "source": [
    "df\n",
    "\n",
    "goalkeeper_id_list=[df[\"Id\"].loc[num] for num in range (0,len(df))]\n",
    "goalkeeper_link_list=[df[\"Link\"].loc[num] for num in range (0,len(df))]"
   ]
  },
  {
   "cell_type": "code",
   "execution_count": 4,
   "id": "31515081",
   "metadata": {},
   "outputs": [],
   "source": [
    "def changeNulltoZero(data):\n",
    "    if data==\"\":\n",
    "        data=0\n",
    "        return data\n",
    "    return data"
   ]
  },
  {
   "cell_type": "code",
   "execution_count": 5,
   "id": "31e901c2",
   "metadata": {},
   "outputs": [],
   "source": [
    "import requests\n",
    "from bs4 import BeautifulSoup\n",
    "\n",
    "base_url = \"https://fbref.com\""
   ]
  },
  {
   "cell_type": "code",
   "execution_count": 6,
   "id": "f8648e09",
   "metadata": {},
   "outputs": [
    {
     "name": "stdout",
     "output_type": "stream",
     "text": [
      "23805. /en/players/923be307/David-Dei DONE ! 2286th in 2335 (Current : 97.90149892933619 %)\n",
      "23807. /en/players/c9d7707e/Francesco-Rossi DONE ! 2287th in 2335 (Current : 97.94432548179871 %)\n",
      "23812. /en/players/43617702/Angelo-Pagotto DONE ! 2288th in 2335 (Current : 97.98715203426124 %)\n",
      "23813. /en/players/adb9372c/Claudio-Scarzanella DONE ! 2289th in 2335 (Current : 98.02997858672377 %)\n",
      "23818. /en/players/e2ee9da9/Giacomo-Bindi DONE ! 2290th in 2335 (Current : 98.07280513918629 %)\n",
      "23826. /en/players/0467df63/Caio-Secco DONE ! 2291th in 2335 (Current : 98.11563169164882 %)\n",
      "23838. /en/players/c195ae4a/Marco-Festa DONE ! 2293th in 2335 (Current : 98.20128479657387 %)\n",
      "23846. /en/players/04d9bce8/Valentin-Cojocaru DONE ! 2294th in 2335 (Current : 98.2441113490364 %)\n",
      "23893. /en/players/f1e5709c/Paolo-Tornaghi DONE ! 2301th in 2335 (Current : 98.54389721627409 %)\n",
      "23901. /en/players/07f55871/Giacomo-Poluzzi DONE ! 2302th in 2335 (Current : 98.58672376873662 %)\n",
      "23913. /en/players/0f47717b/Demba-Thiam DONE ! 2304th in 2335 (Current : 98.67237687366168 %)\n",
      "23951. /en/players/8d039f57/Pier-Graziano-Gori DONE ! 2311th in 2335 (Current : 98.97216274089936 %)\n",
      "23987. /en/players/d3982cb9/Luca-Mondini DONE ! 2317th in 2335 (Current : 99.22912205567452 %)\n",
      "23990. /en/players/8decee19/Danilo-Russo DONE ! 2318th in 2335 (Current : 99.27194860813704 %)\n",
      "23994. /en/players/e8e1a2e9/Alex-Valentini DONE ! 2319th in 2335 (Current : 99.31477516059957 %)\n",
      "24005. /en/players/747a1332/Thomas-Saloni DONE ! 2320th in 2335 (Current : 99.3576017130621 %)\n",
      "24011. /en/players/5a5d394c/Simon-Sluga DONE ! 2321th in 2335 (Current : 99.40042826552462 %)\n",
      "24014. /en/players/7a4050d5/Raffaele-Di-Gennaro DONE ! 2322th in 2335 (Current : 99.44325481798715 %)\n",
      "24019. /en/players/44398bcf/Axel-Desjardins DONE ! 2323th in 2335 (Current : 99.48608137044968 %)\n",
      "24036. /en/players/cc1a0c57/Jeroen-Zoet DONE ! 2326th in 2335 (Current : 99.61456102783725 %)\n",
      "24041. /en/players/54f6afe3/Petar-Zovko DONE ! 2327th in 2335 (Current : 99.65738758029978 %)\n",
      "24058. /en/players/03dd627e/Martin-Lejsal DONE ! 2328th in 2335 (Current : 99.70021413276231 %)\n",
      "24085. /en/players/e51336b7/Bruno DONE ! 2330th in 2335 (Current : 99.78586723768737 %)\n"
     ]
    }
   ],
   "source": [
    "for num in range(2286,len(goalkeeper_link_list)):\n",
    "    player_url = base_url + goalkeeper_link_list[num]\n",
    "\n",
    "    res = requests.get(player_url)\n",
    "    res.raise_for_status()\n",
    "\n",
    "    soup = BeautifulSoup(res.text, 'lxml')\n",
    "    \n",
    "    if soup.find(attrs={\"id\":\"stats_keeper_dom_lg\"}):\n",
    "        # Find a table by id     \n",
    "        stats_keeper_table = soup.find(attrs={\"id\":\"stats_keeper_dom_lg\"})\n",
    "        t_body=stats_keeper_table.tbody\n",
    "        \n",
    "        # Find the attributes in the table    \n",
    "        season = t_body.find_all(\"th\", attrs={\"data-stat\" : \"year_id\"})\n",
    "        teams = t_body.find_all(\"td\", attrs={\"data-stat\" : \"team\"})\n",
    "        countries = t_body.find_all(\"td\", attrs={\"data-stat\" : \"country\"})\n",
    "        lg_ranks = t_body.find_all(\"td\", attrs={\"data-stat\" : \"lg_finish\"})\n",
    "        mps = t_body.find_all(\"td\", attrs={\"data-stat\" : \"gk_games\"})\n",
    "        starts = t_body.find_all(\"td\", attrs={\"data-stat\" : \"gk_games_starts\"})\n",
    "        minute_90s = t_body.find_all(\"td\", attrs={\"data-stat\" : \"minutes_90s\"})\n",
    "        gk_against = t_body.find_all(\"td\", attrs={\"data-stat\" : \"gk_goals_against\"})\n",
    "        gk_against_per90 = t_body.find_all(\"td\", attrs={\"data-stat\" : \"gk_goals_against_per90\"})\n",
    "        gk_shots_on_target_against = t_body.find_all(\"td\", attrs={\"data-stat\" : \"gk_shots_on_target_against\"})\n",
    "        gk_saves = t_body.find_all(\"td\", attrs={\"data-stat\" : \"gk_saves\"})\n",
    "        gk_save_pct = t_body.find_all(\"td\", attrs={\"data-stat\" : \"gk_save_pct\"})\n",
    "        gk_wins = t_body.find_all(\"td\", attrs={\"data-stat\" : \"gk_wins\"})\n",
    "        gk_ties = t_body.find_all(\"td\", attrs={\"data-stat\" : \"gk_ties\"})\n",
    "        gk_loses = t_body.find_all(\"td\", attrs={\"data-stat\" : \"gk_losses\"})\n",
    "        gk_clean_sheets = t_body.find_all(\"td\", attrs={\"data-stat\" : \"gk_clean_sheets\"})\n",
    "        gk_clean_sheets_pct = t_body.find_all(\"td\", attrs={\"data-stat\" : \"gk_clean_sheets_pct\"})\n",
    "        minutes = t_body.find_all(\"td\", attrs={\"data-stat\" : \"gk_minutes\"})\n",
    "\n",
    "        # Write all data in generated csv file\n",
    "        writer = csv.writer(new_file)\n",
    "        \n",
    "        for num2 in range(0, len(season)):\n",
    "            if (season[num2].get_text() == \"\"):\n",
    "                continue\n",
    "            contents = ([goalkeeper_id_list[num], \n",
    "                         season[num2].get_text(), \n",
    "                         teams[num2].get_text(), \n",
    "                         countries[num2].get_text(),\n",
    "                         lg_ranks[num2].get_text(),\n",
    "                         changeNulltoZero(mps[num2].get_text()),\n",
    "                         changeNulltoZero(starts[num2].get_text()),\n",
    "                         changeNulltoZero(minute_90s[num2].get_text()),\n",
    "                         changeNulltoZero(gk_against[num2].get_text()),\n",
    "                         changeNulltoZero(gk_against_per90[num2].get_text()),\n",
    "                         changeNulltoZero(gk_shots_on_target_against[num2].get_text()),\n",
    "                         changeNulltoZero(gk_saves[num2].get_text()),\n",
    "                         changeNulltoZero(gk_save_pct[num2].get_text()),\n",
    "                         changeNulltoZero(gk_wins[num2].get_text()),\n",
    "                         changeNulltoZero(gk_ties[num2].get_text()),\n",
    "                         changeNulltoZero(gk_loses[num2].get_text()),\n",
    "                         changeNulltoZero(gk_clean_sheets[num2].get_text()),\n",
    "                         changeNulltoZero(gk_clean_sheets_pct[num2].get_text()),\n",
    "                         changeNulltoZero(minutes[num2].get_text().replace(\",\",\".\")),\n",
    "\n",
    "                        ])\n",
    "            writer.writerow(contents)\n",
    "\n",
    "        time.sleep(random.randint(2,8))\n",
    "        print(f\"{goalkeeper_id_list[num]}. {goalkeeper_link_list[num]} DONE ! {num}th in {len(goalkeeper_link_list)} (Current : {num/len(goalkeeper_link_list)*100} %)\")\n",
    "    else:\n",
    "        continue\n",
    "new_file.close()"
   ]
  },
  {
   "cell_type": "code",
   "execution_count": 23,
   "id": "350f3eb6",
   "metadata": {},
   "outputs": [],
   "source": [
    "new_file.close()"
   ]
  }
 ],
 "metadata": {
  "kernelspec": {
   "display_name": "Python 3 (ipykernel)",
   "language": "python",
   "name": "python3"
  },
  "language_info": {
   "codemirror_mode": {
    "name": "ipython",
    "version": 3
   },
   "file_extension": ".py",
   "mimetype": "text/x-python",
   "name": "python",
   "nbconvert_exporter": "python",
   "pygments_lexer": "ipython3",
   "version": "3.9.7"
  }
 },
 "nbformat": 4,
 "nbformat_minor": 5
}
