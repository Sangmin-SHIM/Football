{
 "cells": [
  {
   "cell_type": "markdown",
   "id": "f2f204dc",
   "metadata": {},
   "source": [
    "# Merge multiple csv files to one file\n",
    "\n",
    "# 1) Open Notepad in the folder that has multiple csv files that we want to combine\n",
    "\n",
    "# 2) Write : copy *.csv {name_you_want}.csv => \"PL_CLUBS_2012_2022.csv\"\n",
    "\n",
    "# 3) Save as .bat file\n",
    "\n",
    "# 4) Execute it"
   ]
  }
 ],
 "metadata": {
  "kernelspec": {
   "display_name": "Python 3 (ipykernel)",
   "language": "python",
   "name": "python3"
  },
  "language_info": {
   "codemirror_mode": {
    "name": "ipython",
    "version": 3
   },
   "file_extension": ".py",
   "mimetype": "text/x-python",
   "name": "python",
   "nbconvert_exporter": "python",
   "pygments_lexer": "ipython3",
   "version": "3.9.7"
  }
 },
 "nbformat": 4,
 "nbformat_minor": 5
}
