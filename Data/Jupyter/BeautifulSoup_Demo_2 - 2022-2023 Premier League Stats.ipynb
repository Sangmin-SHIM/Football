{
 "cells": [
  {
   "cell_type": "code",
   "execution_count": 68,
   "id": "af4ffecf",
   "metadata": {},
   "outputs": [],
   "source": [
    "import requests\n",
    "from bs4 import BeautifulSoup\n",
    "\n",
    "url = f\"https://fbref.com/en/comps/{league_code}/{league_name}-Stats\"\n",
    "res = requests.get(url)\n",
    "res.raise_for_status()\n",
    "\n",
    "soup = BeautifulSoup(res.text, 'lxml')"
   ]
  },
  {
   "cell_type": "code",
   "execution_count": 31,
   "id": "e02ebe06",
   "metadata": {},
   "outputs": [],
   "source": [
    "LEAGUES = [\n",
    "        {\"premier_league\" : \n",
    "                         {\"name\" : \"Premier-League\", \"code\" : 9}\n",
    "        },\n",
    "        {\"ligue_1\" : \n",
    "                         {\"name\" : \"Ligue-1\", \"code\" : 13}\n",
    "        },\n",
    "        {\"bundes_liga\" : \n",
    "                         {\"name\" : \"Bundesliga\", \"code\" : 20}        \n",
    "        },\n",
    "        {\"serie_a\" :\n",
    "                         {\"name\" : \"Serie-A\", \"code\" : 11}        \n",
    "        },\n",
    "        {\"la_liga\" :\n",
    "                         {\"name\" : \"La-Liga\", \"code\" : 12}        \n",
    "        }\n",
    "        ]"
   ]
  },
  {
   "cell_type": "code",
   "execution_count": 67,
   "id": "882afb38",
   "metadata": {},
   "outputs": [
    {
     "name": "stdout",
     "output_type": "stream",
     "text": [
      "Premier-League 9\n"
     ]
    }
   ],
   "source": [
    "# Premier League\n",
    "enter_league = \"premier_league\"\n",
    "\n",
    "def find_league_name(enter_league):\n",
    "    for league in LEAGUES:\n",
    "        for key in league.keys():\n",
    "            if key == enter_league:\n",
    "                league_name = league[key]['name']\n",
    "                return league_name\n",
    "\n",
    "def find_league_code(enter_league):\n",
    "    for league in LEAGUES:\n",
    "        for key in league.keys():\n",
    "            if key == enter_league:\n",
    "                league_name = league[key]['code']\n",
    "                return league_code\n",
    "            \n",
    "\n",
    "league_name = find_league_name(enter_league)\n",
    "league_code = find_league_code(enter_league)\n",
    "\n",
    "print(league_name, league_code)"
   ]
  },
  {
   "cell_type": "code",
   "execution_count": 89,
   "id": "99588f69",
   "metadata": {},
   "outputs": [
    {
     "name": "stdout",
     "output_type": "stream",
     "text": [
      "Arsenal\n",
      "Manchester City\n",
      "Tottenham\n",
      "Chelsea\n",
      "Manchester Utd\n",
      "Newcastle Utd\n",
      "Brighton\n",
      "Liverpool\n",
      "Brentford\n",
      "Bournemouth\n",
      "Fulham\n",
      "West Ham\n",
      "Crystal Palace\n",
      "Everton\n",
      "Leeds United\n",
      "Aston Villa\n",
      "Wolves\n",
      "Southampton\n",
      "Leicester City\n",
      "Nott'ham Forest\n"
     ]
    }
   ],
   "source": [
    "pl_2022_2023=soup.find(attrs={\"id\":f\"results2022-2023{league_code}1_overall\"})\n",
    "\n",
    "clubs = pl_2022_2023.find_all(\"td\", attrs={\"data-stat\" : \"team\"})\n",
    "\n",
    "for club in clubs:\n",
    "    print(club.a.get_text())"
   ]
  }
 ],
 "metadata": {
  "kernelspec": {
   "display_name": "Python 3 (ipykernel)",
   "language": "python",
   "name": "python3"
  },
  "language_info": {
   "codemirror_mode": {
    "name": "ipython",
    "version": 3
   },
   "file_extension": ".py",
   "mimetype": "text/x-python",
   "name": "python",
   "nbconvert_exporter": "python",
   "pygments_lexer": "ipython3",
   "version": "3.9.7"
  }
 },
 "nbformat": 4,
 "nbformat_minor": 5
}
