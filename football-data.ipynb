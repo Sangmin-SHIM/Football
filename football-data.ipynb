{
 "cells": [
  {
   "cell_type": "code",
   "execution_count": 35,
   "id": "58364735",
   "metadata": {},
   "outputs": [
    {
     "name": "stdout",
     "output_type": "stream",
     "text": [
      "{'id': 2014, 'area': {'id': 2224, 'name': 'Spain'}, 'name': 'Primera Division', 'code': 'PD', 'emblemUrl': None, 'plan': 'TIER_ONE', 'currentSeason': {'id': 380, 'startDate': '2021-08-13', 'endDate': '2022-05-22', 'currentMatchday': 28, 'winner': None}, 'seasons': [{'id': 380, 'startDate': '2021-08-13', 'endDate': '2022-05-22', 'currentMatchday': 28, 'winner': None}, {'id': 635, 'startDate': '2020-09-12', 'endDate': '2021-05-23', 'currentMatchday': 38, 'winner': {'id': 78, 'name': 'Club Atlético de Madrid', 'shortName': 'Atleti', 'tla': 'ATL', 'crestUrl': 'https://crests.football-data.org/78.svg'}}, {'id': 519, 'startDate': '2019-08-16', 'endDate': '2020-07-19', 'currentMatchday': 38, 'winner': {'id': 86, 'name': 'Real Madrid CF', 'shortName': 'Real Madrid', 'tla': 'RMA', 'crestUrl': 'https://crests.football-data.org/86.png'}}, {'id': 281, 'startDate': '2018-08-17', 'endDate': '2019-05-19', 'currentMatchday': 38, 'winner': {'id': 81, 'name': 'FC Barcelona', 'shortName': 'Barça', 'tla': 'FCB', 'crestUrl': 'https://crests.football-data.org/81.svg'}}, {'id': 16, 'startDate': '2017-08-18', 'endDate': '2018-05-20', 'currentMatchday': 38, 'winner': {'id': 81, 'name': 'FC Barcelona', 'shortName': 'Barça', 'tla': 'FCB', 'crestUrl': 'https://crests.football-data.org/81.svg'}}, {'id': 364, 'startDate': '2016-08-19', 'endDate': '2017-05-21', 'currentMatchday': None, 'winner': None}, {'id': 365, 'startDate': '2015-08-22', 'endDate': '2016-05-15', 'currentMatchday': None, 'winner': None}, {'id': 366, 'startDate': '2014-08-24', 'endDate': '2015-05-23', 'currentMatchday': None, 'winner': None}, {'id': 367, 'startDate': '2013-08-17', 'endDate': '2014-05-18', 'currentMatchday': None, 'winner': None}, {'id': 368, 'startDate': '2012-08-18', 'endDate': '2013-06-01', 'currentMatchday': None, 'winner': None}, {'id': 369, 'startDate': '2011-08-27', 'endDate': '2012-05-13', 'currentMatchday': None, 'winner': None}, {'id': 370, 'startDate': '2010-08-28', 'endDate': '2011-05-21', 'currentMatchday': None, 'winner': None}, {'id': 381, 'startDate': '2009-08-29', 'endDate': '2010-05-16', 'currentMatchday': None, 'winner': None}, {'id': 382, 'startDate': '2008-08-30', 'endDate': '2009-05-31', 'currentMatchday': None, 'winner': None}, {'id': 383, 'startDate': '2007-08-25', 'endDate': '2008-05-18', 'currentMatchday': None, 'winner': None}, {'id': 384, 'startDate': '2006-08-26', 'endDate': '2007-06-17', 'currentMatchday': None, 'winner': None}, {'id': 385, 'startDate': '2005-08-27', 'endDate': '2006-05-20', 'currentMatchday': None, 'winner': None}, {'id': 371, 'startDate': '2004-08-28', 'endDate': '2005-05-29', 'currentMatchday': None, 'winner': None}, {'id': 372, 'startDate': '2003-08-30', 'endDate': '2004-05-23', 'currentMatchday': None, 'winner': None}, {'id': 386, 'startDate': '2002-08-31', 'endDate': '2003-06-22', 'currentMatchday': None, 'winner': None}, {'id': 1041, 'startDate': '2001-08-23', 'endDate': '2002-05-09', 'currentMatchday': None, 'winner': None}, {'id': 373, 'startDate': '2000-09-09', 'endDate': '2001-06-17', 'currentMatchday': None, 'winner': None}, {'id': 374, 'startDate': '1999-08-21', 'endDate': '2000-05-20', 'currentMatchday': None, 'winner': None}, {'id': 375, 'startDate': '1998-08-29', 'endDate': '1999-06-20', 'currentMatchday': None, 'winner': None}, {'id': 376, 'startDate': '1997-08-30', 'endDate': '1998-05-16', 'currentMatchday': None, 'winner': None}, {'id': 377, 'startDate': '1996-08-31', 'endDate': '1997-06-15', 'currentMatchday': None, 'winner': None}, {'id': 378, 'startDate': '1995-09-02', 'endDate': '1996-05-26', 'currentMatchday': None, 'winner': None}, {'id': 379, 'startDate': '1994-09-03', 'endDate': '1995-06-18', 'currentMatchday': None, 'winner': None}, {'id': 387, 'startDate': '1993-09-05', 'endDate': '1994-05-15', 'currentMatchday': None, 'winner': None}, {'id': 1042, 'startDate': '1992-09-03', 'endDate': '1993-06-18', 'currentMatchday': None, 'winner': None}, {'id': 1043, 'startDate': '1991-08-29', 'endDate': '1992-06-05', 'currentMatchday': None, 'winner': None}, {'id': 1065, 'startDate': '1990-08-30', 'endDate': '1991-06-07', 'currentMatchday': None, 'winner': None}, {'id': 1064, 'startDate': '1989-08-31', 'endDate': '1990-05-04', 'currentMatchday': None, 'winner': None}, {'id': 1044, 'startDate': '1988-09-01', 'endDate': '1989-06-23', 'currentMatchday': None, 'winner': None}, {'id': 1045, 'startDate': '1987-08-27', 'endDate': '1988-05-20', 'currentMatchday': None, 'winner': None}, {'id': 1047, 'startDate': '1985-08-29', 'endDate': '1986-04-18', 'currentMatchday': None, 'winner': None}, {'id': 1048, 'startDate': '1984-08-30', 'endDate': '1985-04-19', 'currentMatchday': None, 'winner': None}, {'id': 1049, 'startDate': '1983-09-01', 'endDate': '1984-04-27', 'currentMatchday': None, 'winner': None}, {'id': 1050, 'startDate': '1982-09-02', 'endDate': '1983-04-29', 'currentMatchday': None, 'winner': None}, {'id': 1046, 'startDate': '1981-09-17', 'endDate': '1982-04-23', 'currentMatchday': None, 'winner': None}, {'id': 1051, 'startDate': '1980-09-04', 'endDate': '1981-04-24', 'currentMatchday': None, 'winner': None}, {'id': 1052, 'startDate': '1979-09-06', 'endDate': '1980-05-16', 'currentMatchday': None, 'winner': None}, {'id': 1053, 'startDate': '1978-08-31', 'endDate': '1979-06-01', 'currentMatchday': None, 'winner': None}, {'id': 1054, 'startDate': '1977-09-01', 'endDate': '1978-05-05', 'currentMatchday': None, 'winner': None}, {'id': 1055, 'startDate': '1976-09-02', 'endDate': '1977-06-06', 'currentMatchday': None, 'winner': None}, {'id': 1056, 'startDate': '1975-09-04', 'endDate': '1976-05-14', 'currentMatchday': None, 'winner': None}, {'id': 1057, 'startDate': '1974-09-05', 'endDate': '1975-05-23', 'currentMatchday': None, 'winner': None}, {'id': 1058, 'startDate': '1973-08-30', 'endDate': '1974-05-18', 'currentMatchday': None, 'winner': None}, {'id': 1059, 'startDate': '1972-08-31', 'endDate': '1973-05-18', 'currentMatchday': None, 'winner': None}, {'id': 1060, 'startDate': '1971-09-02', 'endDate': '1972-05-12', 'currentMatchday': None, 'winner': None}, {'id': 1061, 'startDate': '1970-09-10', 'endDate': '1971-04-16', 'currentMatchday': None, 'winner': None}, {'id': 1062, 'startDate': '1969-09-11', 'endDate': '1970-04-17', 'currentMatchday': None, 'winner': None}, {'id': 1063, 'startDate': '1968-09-12', 'endDate': '1969-04-18', 'currentMatchday': None, 'winner': None}, {'id': 1066, 'startDate': '1966-09-08', 'endDate': '1967-04-21', 'currentMatchday': None, 'winner': None}, {'id': 1067, 'startDate': '1965-09-02', 'endDate': '1966-04-01', 'currentMatchday': None, 'winner': None}, {'id': 1068, 'startDate': '1964-09-11', 'endDate': '1965-04-16', 'currentMatchday': None, 'winner': None}, {'id': 1069, 'startDate': '1963-09-13', 'endDate': '1964-04-24', 'currentMatchday': None, 'winner': None}, {'id': 1070, 'startDate': '1962-09-14', 'endDate': '1963-04-19', 'currentMatchday': None, 'winner': None}, {'id': 1071, 'startDate': '1961-08-31', 'endDate': '1962-03-30', 'currentMatchday': None, 'winner': None}, {'id': 1072, 'startDate': '1960-09-09', 'endDate': '1961-04-28', 'currentMatchday': None, 'winner': None}, {'id': 1073, 'startDate': '1959-09-11', 'endDate': '1960-04-15', 'currentMatchday': None, 'winner': None}, {'id': 1074, 'startDate': '1958-09-12', 'endDate': '1959-04-17', 'currentMatchday': None, 'winner': None}, {'id': 1075, 'startDate': '1957-09-13', 'endDate': '1958-05-02', 'currentMatchday': None, 'winner': None}, {'id': 1076, 'startDate': '1956-09-07', 'endDate': '1957-04-19', 'currentMatchday': None, 'winner': None}, {'id': 1077, 'startDate': '1955-09-09', 'endDate': '1956-04-20', 'currentMatchday': None, 'winner': None}, {'id': 1078, 'startDate': '1954-09-10', 'endDate': '1955-04-08', 'currentMatchday': None, 'winner': None}, {'id': 1079, 'startDate': '1953-09-11', 'endDate': '1954-04-23', 'currentMatchday': None, 'winner': None}, {'id': 1080, 'startDate': '1952-09-12', 'endDate': '1953-05-01', 'currentMatchday': None, 'winner': None}, {'id': 1081, 'startDate': '1951-09-07', 'endDate': '1952-04-11', 'currentMatchday': None, 'winner': None}, {'id': 1082, 'startDate': '1950-09-08', 'endDate': '1951-04-20', 'currentMatchday': None, 'winner': None}, {'id': 1083, 'startDate': '1949-09-02', 'endDate': '1950-04-21', 'currentMatchday': None, 'winner': None}, {'id': 1084, 'startDate': '1948-09-10', 'endDate': '1949-04-15', 'currentMatchday': None, 'winner': None}, {'id': 1085, 'startDate': '1947-09-19', 'endDate': '1948-04-09', 'currentMatchday': None, 'winner': None}, {'id': 1086, 'startDate': '1946-09-20', 'endDate': '1947-04-21', 'currentMatchday': None, 'winner': None}, {'id': 1087, 'startDate': '1945-09-21', 'endDate': '1946-03-29', 'currentMatchday': None, 'winner': None}, {'id': 1088, 'startDate': '1944-09-22', 'endDate': '1945-05-18', 'currentMatchday': None, 'winner': None}, {'id': 1089, 'startDate': '1943-09-24', 'endDate': '1944-04-07', 'currentMatchday': None, 'winner': None}, {'id': 1090, 'startDate': '1942-09-25', 'endDate': '1943-04-02', 'currentMatchday': None, 'winner': None}, {'id': 1091, 'startDate': '1941-09-26', 'endDate': '1942-04-03', 'currentMatchday': None, 'winner': None}, {'id': 1092, 'startDate': '1940-09-27', 'endDate': '1941-03-28', 'currentMatchday': None, 'winner': None}, {'id': 1093, 'startDate': '1939-12-01', 'endDate': '1940-04-26', 'currentMatchday': None, 'winner': None}, {'id': 1094, 'startDate': '1935-11-08', 'endDate': '1936-04-17', 'currentMatchday': None, 'winner': None}, {'id': 1095, 'startDate': '1934-11-30', 'endDate': '1935-04-26', 'currentMatchday': None, 'winner': None}, {'id': 1096, 'startDate': '1933-11-03', 'endDate': '1934-03-02', 'currentMatchday': None, 'winner': None}, {'id': 1097, 'startDate': '1932-11-25', 'endDate': '1933-03-26', 'currentMatchday': None, 'winner': None}, {'id': 1098, 'startDate': '1931-11-20', 'endDate': '1932-04-01', 'currentMatchday': None, 'winner': None}, {'id': 1099, 'startDate': '1930-12-05', 'endDate': '1931-04-03', 'currentMatchday': None, 'winner': None}, {'id': 1100, 'startDate': '1929-11-29', 'endDate': '1930-03-28', 'currentMatchday': None, 'winner': None}, {'id': 1101, 'startDate': '1929-02-08', 'endDate': '1929-06-28', 'currentMatchday': None, 'winner': None}], 'lastUpdated': '2021-04-17T00:00:28Z'}\n"
     ]
    }
   ],
   "source": [
    "import http.client\n",
    "import json\n",
    "\n",
    "connection = http.client.HTTPConnection('api.football-data.org')\n",
    "headers = { 'X-Auth-Token': 'c74294e5ecb4454aac6039eba28657de' }\n",
    "connection.request('GET', '/v2/competitions/PD', None, headers )\n",
    "response = json.loads(connection.getresponse().read().decode())\n",
    "\n",
    "print (response)"
   ]
  },
  {
   "cell_type": "code",
   "execution_count": null,
   "id": "95babe0a",
   "metadata": {},
   "outputs": [],
   "source": []
  }
 ],
 "metadata": {
  "kernelspec": {
   "display_name": "Python 3 (ipykernel)",
   "language": "python",
   "name": "python3"
  },
  "language_info": {
   "codemirror_mode": {
    "name": "ipython",
    "version": 3
   },
   "file_extension": ".py",
   "mimetype": "text/x-python",
   "name": "python",
   "nbconvert_exporter": "python",
   "pygments_lexer": "ipython3",
   "version": "3.9.7"
  }
 },
 "nbformat": 4,
 "nbformat_minor": 5
}
